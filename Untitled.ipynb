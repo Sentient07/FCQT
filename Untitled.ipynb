{
 "cells": [
  {
   "cell_type": "code",
   "execution_count": 1,
   "metadata": {
    "collapsed": false
   },
   "outputs": [
    {
     "name": "stdout",
     "output_type": "stream",
     "text": [
      "Rectangle(1,0;0.35x285)\n"
     ]
    }
   ],
   "source": [
    "import numpy as np\n",
    "import matplotlib.pyplot as plt\n",
    "\n",
    "mem_cpu = np.array([285, 519, 16.113, 645.867])\n",
    "\n",
    "mem_gpu = np.array([284.831, 532.757, 17.14, 642.079])\n",
    "\n",
    "fig, ax = plt.subplots()\n",
    "rects1 = plt.bar(np.arange(1, 5), mem_cpu, 0.35, color='r')\n",
    "\n",
    "rects2 = plt.bar(np.arange(1, 5) + 0.35, mem_gpu, 0.35, color='g')\n",
    "plt.annotate(\"Single Loop Numpy\", xy=(1.02, 363))\n",
    "plt.annotate(\"Matrix Dot CQT\", xy=(1.84, 576))\n",
    "plt.annotate(\"Single Loop Theano\", xy=(2.94, 52.73))\n",
    "plt.annotate(\"Matrix Dot Theano\", xy=(3.87, 699))\n",
    "print(rects1[0])\n",
    "plt.legend((rects1[0], rects2[0]), ('CPU', 'GPU'), loc=0)\n",
    "ax.set_xlabel('Different computation methods')\n",
    "ax.set_ylabel('Memory used in Mega Bytes')\n",
    "plt.ylim([0, 750])\n",
    "plt.show()"
   ]
  },
  {
   "cell_type": "code",
   "execution_count": 2,
   "metadata": {
    "collapsed": true
   },
   "outputs": [],
   "source": []
  },
  {
   "cell_type": "code",
   "execution_count": 3,
   "metadata": {
    "collapsed": true
   },
   "outputs": [],
   "source": [
    "plt.show()"
   ]
  }
 ],
 "metadata": {
  "kernelspec": {
   "display_name": "Python 2",
   "language": "python",
   "name": "python2"
  },
  "language_info": {
   "codemirror_mode": {
    "name": "ipython",
    "version": 2
   },
   "file_extension": ".py",
   "mimetype": "text/x-python",
   "name": "python",
   "nbconvert_exporter": "python",
   "pygments_lexer": "ipython2",
   "version": "2.7.10"
  }
 },
 "nbformat": 4,
 "nbformat_minor": 0
}
