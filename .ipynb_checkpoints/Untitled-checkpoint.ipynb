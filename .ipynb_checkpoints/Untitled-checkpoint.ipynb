{
 "cells": [
  {
   "cell_type": "code",
   "execution_count": 1,
   "metadata": {
    "collapsed": false
   },
   "outputs": [
    {
     "name": "stdout",
     "output_type": "stream",
     "text": [
      "Rectangle(1,0;0.35x285)\n"
     ]
    }
   ],
   "source": [
    "import numpy as np\n",
    "import matplotlib.pyplot as plt\n",
    "\n",
    "mem_cpu = np.array([285, 519, 16.113, 645.867])\n",
    "\n",
    "mem_gpu = np.array([284.831, 532.757, 17.14, 642.079])\n",
    "\n",
    "fig, ax = plt.subplots()\n",
    "rects1 = plt.bar(np.arange(1, 5), mem_cpu, 0.35, color='r')\n",
    "\n",
    "rects2 = plt.bar(np.arange(1, 5) + 0.35, mem_gpu, 0.35, color='g')\n",
    "plt.annotate(\"Single Loop Numpy\", xy=(1.02, 363))\n",
    "plt.annotate(\"Matrix Dot CQT\", xy=(1.84, 576))\n",
    "plt.annotate(\"Single Loop Theano\", xy=(2.94, 52.73))\n",
    "plt.annotate(\"Matrix Dot Theano\", xy=(3.87, 699))\n",
    "print(rects1[0])\n",
    "plt.legend((rects1[0], rects2[0]), ('CPU', 'GPU'), loc=0)\n",
    "ax.set_xlabel('Different computation methods')\n",
    "ax.set_ylabel('Memory used in Mega Bytes')\n",
    "plt.ylim([0, 750])\n",
    "plt.show()\n",
    "\n",
    "\n"
   ]
  },
  {
   "cell_type": "code",
   "execution_count": 4,
   "metadata": {
    "collapsed": false
   },
   "outputs": [
    {
     "name": "stdout",
     "output_type": "stream",
     "text": [
      "testing class printing \n",
      "TestPrinting\n"
     ]
    }
   ],
   "source": [
    "class TestPrinting(object):\n",
    "    def __str__(self):\n",
    "        return \"NotWhatyouExpect\"\n",
    "    def __init__(self, something):\n",
    "        something = 123\n",
    "        print (\"testing class printing \")\n",
    "        self.see_what_name()\n",
    "    \n",
    "    def see_what_name(self):\n",
    "        print(self.__class__.__name__)\n",
    "tp = TestPrinting(123)"
   ]
  },
  {
   "cell_type": "code",
   "execution_count": 1,
   "metadata": {
    "collapsed": false
   },
   "outputs": [
    {
     "name": "stdout",
     "output_type": "stream",
     "text": [
      "[132300, 17503290000, 2315685267000000, 306365160824100000000L, 40532110777028430000000000L]\n"
     ]
    }
   ],
   "source": [
    "import numpy as np\n",
    "import matplotlib.pyplot as plt\n",
    "\n",
    "labels = []\n",
    "\n",
    "for i in range(1, 6):\n",
    "    labels.append(132300 * 4 ** i)\n",
    "print(labels)\n",
    "title = \"User time vs Signal Length Graph\"\n",
    "axes_label = [\"Signal Length\", \"Time taken for execution (in sec)\"]\n",
    "fig, ax = plt.subplots()\n",
    "plt.title(title)\n",
    "colour_list_1 = ['black', 'green', 'red', 'blue', 'yellow', 'purple']\n",
    "\n",
    "colour_list = ['red', 'purple', 'yellow', 'blue']\n",
    "\n",
    "colour_labelmap_1 = [\"Black - Single Looped Numpy\", \"Green - Single Loop Theano\",\n",
    "                   \"Red - Matrix Multiplication Theano\", \"Blue - Matrix Multiplication, Numpy\",\n",
    "                   \"Yellow - Euler Comp Numpy\", \"Purple - Euler Comp Theano\"]\n",
    "colour_labelmap = [\n",
    "                   \"Red - Matrix Multiplication Theano\", \"Purple - Matrix Multiplication, Numpy\",\n",
    "                   \"Yellow - Euler Comp Numpy\", \"Blue - Euler Comp Theano\"]\n",
    "cqt_values_1 = [[0.37, 2.11, 5.95, 24.2, 101.2], [0.30, 1.12,  4.34, 18.87, 78.3], [0.008, 0.036, 0.084, 0.35, 1.42], \n",
    "              [0.20, 0.436, 1.69, 7.44, 22.5],\n",
    "              [0.21, 0.55, 1.96, 3.69, 13.2],\n",
    "              [0.35, 0.540, 1.87, 0.396, 1.38]]\n",
    "\n",
    "cqt_values = [[0.008, 0.036, 0.084, 0.35, 1.42], \n",
    "              [0.20, 0.436, 1.69, 7.44, 22.5],\n",
    "              [0.21, 0.55, 1.96, 3.69, 13.2],\n",
    "              [0.35, 0.540, 1.87, 0.396, 1.38]]\n",
    "\n",
    "plot_array = []\n",
    "for index, cv in enumerate(cqt_values):\n",
    "    temp_plots = ax.plot(labels, cv, colour_list[index], marker='x')\n",
    "    plot_array.append(temp_plots)\n",
    "plt.legend(tuple([i[0] for i in plot_array]), tuple(colour_labelmap), loc=0)\n",
    "ax.ticklabel_format(useOffset=False)\n",
    "ax.set_xlabel(axes_label[0])\n",
    "ax.set_ylabel(axes_label[1])\n",
    "plt.ylim()\n",
    "plt.show()"
   ]
  }
 ],
 "metadata": {
  "kernelspec": {
   "display_name": "Python 2",
   "language": "python",
   "name": "python2"
  },
  "language_info": {
   "codemirror_mode": {
    "name": "ipython",
    "version": 2
   },
   "file_extension": ".py",
   "mimetype": "text/x-python",
   "name": "python",
   "nbconvert_exporter": "python",
   "pygments_lexer": "ipython2",
   "version": "2.7.10"
  }
 },
 "nbformat": 4,
 "nbformat_minor": 0
}
